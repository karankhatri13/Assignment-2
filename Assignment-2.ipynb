{
 "cells": [
  {
   "cell_type": "code",
   "execution_count": 1,
   "metadata": {},
   "outputs": [],
   "source": [
    "import re"
   ]
  },
  {
   "cell_type": "code",
   "execution_count": 2,
   "metadata": {},
   "outputs": [],
   "source": [
    "def pan(pan_no):\n",
    "    pattern = '(^[A-Z]{5})(\\d{4})([A-Z]{1}$)'\n",
    "    match = re.search(pattern, pan_no)\n",
    "    if match:\n",
    "        return True\n",
    "    else:\n",
    "        return False"
   ]
  },
  {
   "cell_type": "code",
   "execution_count": 3,
   "metadata": {},
   "outputs": [],
   "source": [
    "def gst(gst_no):\n",
    "    pattern = '(^\\d{2})([A-Z]{5})(\\d{4})([A-Z]{1})(\\d{1})([A-Z]{1})(\\d{1}$)'\n",
    "    match = re.search(pattern, gst_no)\n",
    "    if match:\n",
    "        return True\n",
    "    else:\n",
    "        return False"
   ]
  },
  {
   "cell_type": "code",
   "execution_count": 4,
   "metadata": {},
   "outputs": [],
   "source": [
    "def dl(dl_no):\n",
    "    pattern = '(^[A-Z]{2})(\\d{13}$)'\n",
    "    match = re.search(pattern, dl_no)\n",
    "    if match:\n",
    "        return True\n",
    "    else:\n",
    "        return False"
   ]
  },
  {
   "cell_type": "code",
   "execution_count": 5,
   "metadata": {},
   "outputs": [],
   "source": [
    "def adhaar(adhaar_no):\n",
    "    pattern = '(^(\\d{12}$))'\n",
    "    match = re.search(pattern,adhaar_no)\n",
    "    if match:\n",
    "        return True\n",
    "    else:\n",
    "        return False"
   ]
  },
  {
   "cell_type": "code",
   "execution_count": 7,
   "metadata": {},
   "outputs": [
    {
     "name": "stdout",
     "output_type": "stream",
     "text": [
      "Enter Your PAN Number:ABCFE1234X\n",
      "True\n",
      "Enter Your GST Number:BHHEEH5432\n",
      "False\n",
      "Enter Your Driving Licence Number:BGDR667HHGFDDD\n",
      "False\n",
      "Enter Your Adhaar Number:123456781234\n",
      "True\n"
     ]
    }
   ],
   "source": [
    "pan_no = input('Enter Your PAN Number:')\n",
    "print(pan(pan_no))\n",
    "\n",
    "gst_no = input('Enter Your GST Number:')\n",
    "print(gst(gst_no))\n",
    "\n",
    "dl_no = input('Enter Your Driving Licence Number:')\n",
    "print(dl(dl_no))\n",
    "\n",
    "adhaar_no = input('Enter Your Adhaar Number:')\n",
    "print(adhaar(adhaar_no))"
   ]
  },
  {
   "cell_type": "code",
   "execution_count": null,
   "metadata": {},
   "outputs": [],
   "source": []
  }
 ],
 "metadata": {
  "kernelspec": {
   "display_name": "Python 3",
   "language": "python",
   "name": "python3"
  },
  "language_info": {
   "codemirror_mode": {
    "name": "ipython",
    "version": 3
   },
   "file_extension": ".py",
   "mimetype": "text/x-python",
   "name": "python",
   "nbconvert_exporter": "python",
   "pygments_lexer": "ipython3",
   "version": "3.8.5"
  }
 },
 "nbformat": 4,
 "nbformat_minor": 4
}
